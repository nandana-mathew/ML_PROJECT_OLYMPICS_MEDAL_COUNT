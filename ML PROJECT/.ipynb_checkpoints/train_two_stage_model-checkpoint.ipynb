{
 "cells": [
  {
   "cell_type": "markdown",
   "id": "5b5baf9e",
   "metadata": {},
   "source": [
    "# Two-Stage Olympic Medal Prediction Model\n",
    "\n",
    "## Overview\n",
    "This notebook implements a two-stage prediction approach:\n",
    "1. **Stage A (Classification)**: Predict whether a country wins any medals (binary)\n",
    "2. **Stage B (Regression)**: Predict medal count for countries predicted to win medals\n",
    "\n",
    "## What to Run\n",
    "Simply run all cells in order. The notebook will:\n",
    "- Load and explore data\n",
    "- Preprocess features with pipelines\n",
    "- Split data by time (train ≤2012, val=2016, test=2020+)\n",
    "- Train classifier and regressor with hyperparameter tuning\n",
    "- Evaluate both stages\n",
    "- Save models for inference"
   ]
  },
  {
   "cell_type": "code",
   "execution_count": 1,
   "id": "2b7ec0a1",
   "metadata": {},
   "outputs": [
    {
     "name": "stderr",
     "output_type": "stream",
     "text": [
      "/home/mona/.local/lib/python3.10/site-packages/matplotlib/projections/__init__.py:63: UserWarning: Unable to import Axes3D. This may be due to multiple versions of Matplotlib being installed (e.g. as a system package and as a pip package). As a result, the 3D projection is not available.\n",
      "  warnings.warn(\"Unable to import Axes3D. This may be due to multiple versions of \"\n"
     ]
    },
    {
     "name": "stdout",
     "output_type": "stream",
     "text": [
      "✓ Imports complete\n"
     ]
    }
   ],
   "source": [
    "import pandas as pd\n",
    "import numpy as np\n",
    "import matplotlib.pyplot as plt\n",
    "import seaborn as sns\n",
    "from pathlib import Path\n",
    "import joblib\n",
    "import warnings\n",
    "warnings.filterwarnings('ignore')\n",
    "\n",
    "from sklearn.model_selection import train_test_split, RandomizedSearchCV\n",
    "from sklearn.preprocessing import StandardScaler, OneHotEncoder\n",
    "from sklearn.impute import SimpleImputer\n",
    "from sklearn.compose import ColumnTransformer\n",
    "from sklearn.pipeline import Pipeline\n",
    "from sklearn.metrics import (\n",
    "    roc_auc_score, average_precision_score, precision_recall_fscore_support,\n",
    "    mean_absolute_error, mean_squared_error, precision_recall_curve\n",
    ")\n",
    "\n",
    "import xgboost as xgb\n",
    "from scipy.stats import randint, uniform\n",
    "\n",
    "# Create directories\n",
    "Path('models').mkdir(exist_ok=True)\n",
    "Path('figures').mkdir(exist_ok=True)\n",
    "Path('results').mkdir(exist_ok=True)\n",
    "\n",
    "# Set style\n",
    "sns.set_style('whitegrid')\n",
    "plt.rcParams['figure.figsize'] = (10, 6)\n",
    "\n",
    "print(\"✓ Imports complete\")"
   ]
  },
  {
   "cell_type": "markdown",
   "id": "045177ea",
   "metadata": {},
   "source": [
    "## 1. Load Data"
   ]
  },
  {
   "cell_type": "code",
   "execution_count": 2,
   "id": "e006baa8",
   "metadata": {},
   "outputs": [
    {
     "name": "stdout",
     "output_type": "stream",
     "text": [
      "Dataset shape: (7390, 15)\n",
      "\n",
      "Columns: ['iso3', 'year', 'games_type', 'gold', 'silver', 'bronze', 'total_medals', 'has_medal', 'country', 'population', 'gdp_current_usd', 'gdp_per_capita', 'life_expectancy', 'adult_literacy_rate', 'unemployment_rate']\n",
      "\n",
      "First rows:\n",
      "  iso3  year games_type  gold  silver  bronze  total_medals  has_medal  \\\n",
      "0  AUS  2022     Winter   1.0     2.0     1.0           4.0          1   \n",
      "1  AUT  2022     Winter   7.0     7.0     4.0          18.0          1   \n",
      "2  BLR  2022     Winter   0.0     2.0     0.0           2.0          1   \n",
      "3  BEL  2022     Winter   1.0     0.0     1.0           2.0          1   \n",
      "4  CAN  2022     Winter   4.0     8.0    14.0          26.0          1   \n",
      "\n",
      "     country  population  gdp_current_usd  gdp_per_capita  life_expectancy  \\\n",
      "0  Australia  26014399.0     1.690858e+12    64997.013654        83.200000   \n",
      "1    Austria   9041851.0     4.717736e+11    52176.664914        81.295122   \n",
      "2    Belarus   9228071.0     7.377518e+10     7994.648061        74.103366   \n",
      "3    Belgium  11680210.0     5.936146e+11    50822.251854        81.748780   \n",
      "4     Canada  38935934.0     2.190411e+12    56256.800726        81.245366   \n",
      "\n",
      "   adult_literacy_rate  unemployment_rate  \n",
      "0                  NaN              3.728  \n",
      "1                  NaN              4.992  \n",
      "2                  NaN              3.574  \n",
      "3                  NaN              5.570  \n",
      "4                  NaN              5.279  \n",
      "\n",
      "Year range: 1896 - 2022\n",
      "Countries: 137\n",
      "\n",
      "Games distribution:\n",
      "games_type\n",
      "Summer    4044\n",
      "Winter    3346\n",
      "Name: count, dtype: int64\n"
     ]
    }
   ],
   "source": [
    "# Load merged dataset\n",
    "df = pd.read_csv('data/processed/olympics_merged.csv')\n",
    "\n",
    "print(f\"Dataset shape: {df.shape}\")\n",
    "print(f\"\\nColumns: {df.columns.tolist()}\")\n",
    "print(f\"\\nFirst rows:\")\n",
    "print(df.head())\n",
    "\n",
    "print(f\"\\nYear range: {df['year'].min()} - {df['year'].max()}\")\n",
    "print(f\"Countries: {df['iso3'].nunique()}\")\n",
    "print(f\"\\nGames distribution:\")\n",
    "print(df['games_type'].value_counts())"
   ]
  },
  {
   "cell_type": "markdown",
   "id": "248955ce",
   "metadata": {},
   "source": [
    "## 2. Exploratory Data Analysis"
   ]
  },
  {
   "cell_type": "code",
   "execution_count": 3,
   "id": "9c12a030",
   "metadata": {},
   "outputs": [
    {
     "data": {
      "image/png": "[encoded data removed]",
      "text/plain": [
       "<Figure size 1008x720 with 4 Axes>"
      ]
     },
     "metadata": {
      "needs_background": "light"
     },
     "output_type": "display_data"
    },
    {
     "name": "stdout",
     "output_type": "stream",
     "text": [
      "\n",
      "📊 Medal Statistics:\n",
      "  Zero medals: 75.1%\n",
      "  Mean medals: 2.82\n",
      "  Median medals: 0\n",
      "  Max medals: 231\n"
     ]
    }
   ],
   "source": [
    "# Medal distribution\n",
    "fig, axes = plt.subplots(2, 2, figsize=(14, 10))\n",
    "\n",
    "# Total medals histogram\n",
    "axes[0, 0].hist(df['total_medals'], bins=50, edgecolor='black', alpha=0.7)\n",
    "axes[0, 0].set_xlabel('Total Medals')\n",
    "axes[0, 0].set_ylabel('Frequency')\n",
    "axes[0, 0].set_title('Distribution of Total Medals')\n",
    "axes[0, 0].axvline(df['total_medals'].median(), color='red', linestyle='--', label='Median')\n",
    "axes[0, 0].legend()\n",
    "\n",
    "# Log-scale medals\n",
    "axes[0, 1].hist(np.log1p(df['total_medals']), bins=50, edgecolor='black', alpha=0.7, color='green')\n",
    "axes[0, 1].set_xlabel('Log(Total Medals + 1)')\n",
    "axes[0, 1].set_ylabel('Frequency')\n",
    "axes[0, 1].set_title('Distribution of Log-Transformed Medals')\n",
    "\n",
    "# Zero proportion\n",
    "zero_prop = (df['total_medals'] == 0).mean()\n",
    "medal_counts = df['total_medals'].value_counts().sort_index().head(20)\n",
    "axes[1, 0].bar(medal_counts.index, medal_counts.values, edgecolor='black')\n",
    "axes[1, 0].set_xlabel('Medal Count')\n",
    "axes[1, 0].set_ylabel('Frequency')\n",
    "axes[1, 0].set_title(f'Medal Counts (Zero Medals: {zero_prop:.1%})')\n",
    "axes[1, 0].axvline(0.5, color='red', linestyle='--', linewidth=2)\n",
    "\n",
    "# Medals by year\n",
    "medals_by_year = df.groupby('year')['total_medals'].agg(['sum', 'mean', 'count'])\n",
    "axes[1, 1].plot(medals_by_year.index, medals_by_year['sum'], marker='o', label='Total')\n",
    "axes[1, 1].set_xlabel('Year')\n",
    "axes[1, 1].set_ylabel('Total Medals Awarded')\n",
    "axes[1, 1].set_title('Medals Over Time')\n",
    "axes[1, 1].legend()\n",
    "axes[1, 1].grid(True, alpha=0.3)\n",
    "\n",
    "plt.tight_layout()\n",
    "plt.savefig('figures/eda_medal_distribution.png', dpi=150, bbox_inches='tight')\n",
    "plt.show()\n",
    "\n",
    "print(f\"\\n📊 Medal Statistics:\")\n",
    "print(f\"  Zero medals: {zero_prop:.1%}\")\n",
    "print(f\"  Mean medals: {df['total_medals'].mean():.2f}\")\n",
    "print(f\"  Median medals: {df['total_medals'].median():.0f}\")\n",
    "print(f\"  Max medals: {df['total_medals'].max():.0f}\")"
   ]
  },
  {
   "cell_type": "code",
   "execution_count": 4,
   "id": "aa225459",
   "metadata": {},
   "outputs": [
    {
     "data": {
      "image/png": "[encoded data removed]",
      "text/plain": [
       "<Figure size 576x720 with 1 Axes>"
      ]
     },
     "metadata": {
      "needs_background": "light"
     },
     "output_type": "display_data"
    },
    {
     "name": "stdout",
     "output_type": "stream",
     "text": [
      "\n",
      "📊 Top correlations with medals:\n",
      "has_medal              0.457335\n",
      "gdp_current_usd        0.408650\n",
      "life_expectancy        0.217525\n",
      "population             0.211661\n",
      "gdp_per_capita         0.137956\n",
      "adult_literacy_rate    0.105901\n",
      "unemployment_rate     -0.023824\n",
      "Name: total_medals, dtype: float64\n"
     ]
    }
   ],
   "source": [
    "# Feature correlations with medals\n",
    "numeric_cols = df.select_dtypes(include=[np.number]).columns.tolist()\n",
    "numeric_cols = [c for c in numeric_cols if c not in ['year', 'gold', 'silver', 'bronze']]\n",
    "\n",
    "if len(numeric_cols) > 2:\n",
    "    corr_with_medals = df[numeric_cols].corr()['total_medals'].sort_values(ascending=False)\n",
    "    \n",
    "    fig, ax = plt.subplots(figsize=(8, 10))\n",
    "    corr_with_medals.drop('total_medals').plot(kind='barh', ax=ax)\n",
    "    ax.set_xlabel('Correlation with Total Medals')\n",
    "    ax.set_title('Feature Correlations with Medal Count')\n",
    "    ax.axvline(0, color='black', linestyle='-', linewidth=0.8)\n",
    "    plt.tight_layout()\n",
    "    plt.savefig('figures/eda_correlations.png', dpi=150, bbox_inches='tight')\n",
    "    plt.show()\n",
    "    \n",
    "    print(\"\\n📊 Top correlations with medals:\")\n",
    "    print(corr_with_medals.drop('total_medals').head(10))"
   ]
  },
  {
   "cell_type": "code",
   "execution_count": 5,
   "id": "735c4cfe",
   "metadata": {},
   "outputs": [
    {
     "data": {
      "image/png": "[encoded data removed]",
      "text/plain": [
       "<Figure size 720x576 with 2 Axes>"
      ]
     },
     "metadata": {
      "needs_background": "light"
     },
     "output_type": "display_data"
    }
   ],
   "source": [
    "# Correlation heatmap of predictors\n",
    "predictor_cols = ['population', 'gdp_current_usd', 'gdp_per_capita', \n",
    "                  'life_expectancy', 'unemployment_rate']\n",
    "predictor_cols = [c for c in predictor_cols if c in df.columns]\n",
    "\n",
    "if len(predictor_cols) > 1:\n",
    "    corr_matrix = df[predictor_cols + ['total_medals']].corr()\n",
    "    \n",
    "    plt.figure(figsize=(10, 8))\n",
    "    sns.heatmap(corr_matrix, annot=True, fmt='.2f', cmap='coolwarm', center=0,\n",
    "                square=True, linewidths=1, cbar_kws={\"shrink\": 0.8})\n",
    "    plt.title('Feature Correlation Heatmap')\n",
    "    plt.tight_layout()\n",
    "    plt.savefig('figures/eda_heatmap.png', dpi=150, bbox_inches='tight')\n",
    "    plt.show()"
   ]
  },
  {
   "cell_type": "markdown",
   "id": "3efbba94",
   "metadata": {},
   "source": [
    "## 3. Data Preprocessing"
   ]
  },
  {
   "cell_type": "code",
   "execution_count": 6,
   "id": "add7baac",
   "metadata": {},
   "outputs": [
    {
     "name": "stdout",
     "output_type": "stream",
     "text": [
      "\n",
      "📋 Feature Engineering:\n",
      "  Numeric features (6): ['population', 'gdp_current_usd', 'gdp_per_capita', 'life_expectancy', 'adult_literacy_rate', 'unemployment_rate']\n",
      "  Categorical features (1): ['games_type']\n"
     ]
    }
   ],
   "source": [
    "# 1️⃣ Define features and targets\n",
    "exclude_cols = ['iso3', 'country_name', 'year', 'gold', 'silver', 'bronze', 'total_medals', 'country']\n",
    "\n",
    "feature_cols = [c for c in df.columns if c not in exclude_cols]\n",
    "\n",
    "# Remove target columns explicitly (important to avoid leakage)\n",
    "feature_cols = [f for f in feature_cols if f not in ['has_medal', 'total_medals']]\n",
    "\n",
    "# 2️⃣ Separate numeric and categorical features using full df\n",
    "numeric_features = df[feature_cols].select_dtypes(include=[np.number]).columns.tolist()\n",
    "categorical_features = df[feature_cols].select_dtypes(include=['object']).columns.tolist()\n",
    "\n",
    "print(f\"\\n📋 Feature Engineering:\")\n",
    "print(f\"  Numeric features ({len(numeric_features)}): {numeric_features}\")\n",
    "print(f\"  Categorical features ({len(categorical_features)}): {categorical_features}\")\n",
    "\n",
    "# 3️⃣ Then do the time-aware split\n",
    "train_df = df[df['year'] <= 2012].copy()\n",
    "val_df = df[df['year'] == 2016].copy()\n",
    "test_df = df[df['year'] >= 2020].copy()\n"
   ]
  },
  {
   "cell_type": "code",
   "execution_count": 7,
   "id": "cc1f30d5",
   "metadata": {},
   "outputs": [
    {
     "name": "stdout",
     "output_type": "stream",
     "text": [
      "✓ Preprocessing pipeline created\n"
     ]
    }
   ],
   "source": [
    "# Create preprocessing pipeline\n",
    "numeric_transformer = Pipeline(steps=[\n",
    "    ('imputer', SimpleImputer(strategy='median')),\n",
    "    ('scaler', StandardScaler())\n",
    "])\n",
    "\n",
    "categorical_transformer = Pipeline(steps=[\n",
    "    ('imputer', SimpleImputer(strategy='constant', fill_value='missing')),\n",
    "    ('onehot', OneHotEncoder(handle_unknown='ignore', sparse_output=False))\n",
    "])\n",
    "\n",
    "preprocessor = ColumnTransformer(\n",
    "    transformers=[\n",
    "        ('num', numeric_transformer, numeric_features),\n",
    "        ('cat', categorical_transformer, categorical_features)\n",
    "    ])\n",
    "\n",
    "print(\"✓ Preprocessing pipeline created\")"
   ]
  },
  {
   "cell_type": "markdown",
   "id": "788e66ef",
   "metadata": {},
   "source": [
    "## 4. Time-Aware Data Split"
   ]
  },
  {
   "cell_type": "code",
   "execution_count": 8,
   "id": "a7c18de0",
   "metadata": {},
   "outputs": [
    {
     "name": "stdout",
     "output_type": "stream",
     "text": [
      "\n",
      "📊 Data Split:\n",
      "  Train: 6683 samples, years 1896-2012\n",
      "  Val:   145 samples, years 2016-2016\n",
      "  Test:  282 samples, years 2020-2022\n",
      "\n",
      "🎯 Class Balance:\n",
      "  Train: {0: 5119, 1: 1564}\n",
      "  Val:   {1: 90, 0: 55}\n",
      "  Test:  {0: 155, 1: 127}\n"
     ]
    }
   ],
   "source": [
    "# Time-aware split: train ≤ 2012, val = 2016, test = 2020+\n",
    "train_df = df[df['year'] <= 2012].copy()\n",
    "val_df = df[df['year'] == 2016].copy()\n",
    "test_df = df[df['year'] >= 2020].copy()\n",
    "\n",
    "# Fallback to percentage split if year-based split insufficient\n",
    "if len(val_df) < 50 or len(test_df) < 50:\n",
    "    print(\"⚠️  Using percentage-based split instead of year-based\")\n",
    "    train_df = df[df['year'] < df['year'].quantile(0.7)].copy()\n",
    "    val_df = df[(df['year'] >= df['year'].quantile(0.7)) & \n",
    "                (df['year'] < df['year'].quantile(0.85))].copy()\n",
    "    test_df = df[df['year'] >= df['year'].quantile(0.85)].copy()\n",
    "\n",
    "print(f\"\\n📊 Data Split:\")\n",
    "print(f\"  Train: {len(train_df)} samples, years {train_df['year'].min()}-{train_df['year'].max()}\")\n",
    "print(f\"  Val:   {len(val_df)} samples, years {val_df['year'].min()}-{val_df['year'].max()}\")\n",
    "print(f\"  Test:  {len(test_df)} samples, years {test_df['year'].min()}-{test_df['year'].max()}\")\n",
    "\n",
    "# Prepare features and targets\n",
    "X_train = train_df[feature_cols]\n",
    "X_val = val_df[feature_cols]\n",
    "X_test = test_df[feature_cols]\n",
    "\n",
    "# Classification targets\n",
    "y_train_class = train_df['has_medal']\n",
    "y_val_class = val_df['has_medal']\n",
    "y_test_class = test_df['has_medal']\n",
    "\n",
    "# Regression targets (only for rows with medals)\n",
    "y_train_reg = train_df.loc[train_df['has_medal']==1, 'total_medals']\n",
    "y_val_reg = val_df.loc[val_df['has_medal']==1, 'total_medals']\n",
    "y_test_reg = test_df.loc[test_df['has_medal']==1, 'total_medals']\n",
    "\n",
    "print(f\"\\n🎯 Class Balance:\")\n",
    "print(f\"  Train: {y_train_class.value_counts().to_dict()}\")\n",
    "print(f\"  Val:   {y_val_class.value_counts().to_dict()}\")\n",
    "print(f\"  Test:  {y_test_class.value_counts().to_dict()}\")"
   ]
  },
  {
   "cell_type": "code",
   "execution_count": 9,
   "id": "4404483c",
   "metadata": {},
   "outputs": [
    {
     "name": "stdout",
     "output_type": "stream",
     "text": [
      "\n",
      "✓ Preprocessing complete\n",
      "  Classification features shape: (6683, 8)\n",
      "  Regression features shape: (1564, 8)\n",
      "✓ Preprocessor saved\n"
     ]
    }
   ],
   "source": [
    "# Fit preprocessor and transform data\n",
    "X_train_processed = preprocessor.fit_transform(X_train)\n",
    "X_val_processed = preprocessor.transform(X_val)\n",
    "X_test_processed = preprocessor.transform(X_test)\n",
    "\n",
    "# For regression, get processed features for medal winners only\n",
    "X_train_reg_processed = X_train_processed[train_df['has_medal']==1]\n",
    "X_val_reg_processed = X_val_processed[val_df['has_medal']==1]\n",
    "X_test_reg_processed = X_test_processed[test_df['has_medal']==1]\n",
    "\n",
    "print(f\"\\n✓ Preprocessing complete\")\n",
    "print(f\"  Classification features shape: {X_train_processed.shape}\")\n",
    "print(f\"  Regression features shape: {X_train_reg_processed.shape}\")\n",
    "\n",
    "# Save preprocessor\n",
    "joblib.dump(preprocessor, 'models/preprocessor.joblib')\n",
    "print(\"✓ Preprocessor saved\")"
   ]
  },
  {
   "cell_type": "markdown",
   "id": "286a0114",
   "metadata": {},
   "source": [
    "## 5. Stage A: Classification Model (Has Medal?)"
   ]
  },
  {
   "cell_type": "code",
   "execution_count": 10,
   "id": "eb36ce51",
   "metadata": {},
   "outputs": [
    {
     "name": "stdout",
     "output_type": "stream",
     "text": [
      "\n",
      "🎯 Training Classification Model (Stage A)\n",
      "  Class imbalance ratio: 3.27\n",
      "\n",
      "⏳ Running hyperparameter search (20 iterations, 3-fold CV)...\n",
      "Fitting 3 folds for each of 20 candidates, totalling 60 fits\n",
      "\n",
      "✓ Best parameters: {'colsample_bytree': np.float64(0.8497416192535173), 'gamma': np.float64(0.147816842918857), 'learning_rate': np.float64(0.031098851966054122), 'max_depth': 6, 'min_child_weight': 4, 'n_estimators': 385, 'subsample': np.float64(0.9533121035675474)}\n",
      "✓ Best CV ROC AUC: 0.8977\n"
     ]
    }
   ],
   "source": [
    "# Calculate scale_pos_weight for class imbalance\n",
    "scale_pos_weight = (y_train_class == 0).sum() / (y_train_class == 1).sum()\n",
    "\n",
    "print(f\"\\n🎯 Training Classification Model (Stage A)\")\n",
    "print(f\"  Class imbalance ratio: {scale_pos_weight:.2f}\")\n",
    "\n",
    "# Define parameter distribution for RandomizedSearch\n",
    "param_dist_clf = {\n",
    "    'max_depth': randint(3, 10),\n",
    "    'learning_rate': uniform(0.01, 0.2),\n",
    "    'n_estimators': randint(100, 500),\n",
    "    'min_child_weight': randint(1, 10),\n",
    "    'subsample': uniform(0.6, 0.4),\n",
    "    'colsample_bytree': uniform(0.6, 0.4),\n",
    "    'gamma': uniform(0, 0.5),\n",
    "}\n",
    "\n",
    "# Base classifier\n",
    "base_clf = xgb.XGBClassifier(\n",
    "    objective='binary:logistic',\n",
    "    scale_pos_weight=scale_pos_weight,\n",
    "    random_state=42,\n",
    "    eval_metric='auc',\n",
    "    use_label_encoder=False\n",
    ")\n",
    "\n",
    "# Randomized search\n",
    "random_search_clf = RandomizedSearchCV(\n",
    "    base_clf,\n",
    "    param_distributions=param_dist_clf,\n",
    "    n_iter=20,\n",
    "    scoring='roc_auc',\n",
    "    cv=3,\n",
    "    random_state=42,\n",
    "    n_jobs=-1,\n",
    "    verbose=1\n",
    ")\n",
    "\n",
    "print(\"\\n⏳ Running hyperparameter search (20 iterations, 3-fold CV)...\")\n",
    "random_search_clf.fit(X_train_processed, y_train_class)\n",
    "\n",
    "print(f\"\\n✓ Best parameters: {random_search_clf.best_params_}\")\n",
    "print(f\"✓ Best CV ROC AUC: {random_search_clf.best_score_:.4f}\")\n",
    "\n",
    "classifier = random_search_clf.best_estimator_"
   ]
  },
  {
   "cell_type": "code",
   "execution_count": 11,
   "id": "ef69dc4a",
   "metadata": {},
   "outputs": [
    {
     "name": "stdout",
     "output_type": "stream",
     "text": [
      "\n",
      "🎯 Optimal threshold (max F1 on validation): 0.709\n",
      "\n",
      "📊 Validation Metrics (Classification):\n",
      "  ROC AUC:    0.8520\n",
      "  PR AUC:     0.9131\n",
      "  Precision:  0.8191\n",
      "  Recall:     0.8556\n",
      "  F1 Score:   0.8370\n",
      "\n",
      "✓ Classifier saved\n"
     ]
    }
   ],
   "source": [
    "# Evaluate classifier on validation set\n",
    "y_val_pred_proba = classifier.predict_proba(X_val_processed)[:, 1]\n",
    "\n",
    "# Find optimal threshold by maximizing F1 score\n",
    "precisions, recalls, thresholds = precision_recall_curve(y_val_class, y_val_pred_proba)\n",
    "f1_scores = 2 * (precisions * recalls) / (precisions + recalls + 1e-10)\n",
    "optimal_idx = np.argmax(f1_scores)\n",
    "optimal_threshold = thresholds[optimal_idx] if optimal_idx < len(thresholds) else 0.5\n",
    "\n",
    "print(f\"\\n🎯 Optimal threshold (max F1 on validation): {optimal_threshold:.3f}\")\n",
    "\n",
    "# Make predictions with optimal threshold\n",
    "y_val_pred = (y_val_pred_proba >= optimal_threshold).astype(int)\n",
    "\n",
    "# Calculate metrics\n",
    "val_roc_auc = roc_auc_score(y_val_class, y_val_pred_proba)\n",
    "val_pr_auc = average_precision_score(y_val_class, y_val_pred_proba)\n",
    "precision, recall, f1, _ = precision_recall_fscore_support(y_val_class, y_val_pred, average='binary')\n",
    "\n",
    "print(f\"\\n📊 Validation Metrics (Classification):\")\n",
    "print(f\"  ROC AUC:    {val_roc_auc:.4f}\")\n",
    "print(f\"  PR AUC:     {val_pr_auc:.4f}\")\n",
    "print(f\"  Precision:  {precision:.4f}\")\n",
    "print(f\"  Recall:     {recall:.4f}\")\n",
    "print(f\"  F1 Score:   {f1:.4f}\")\n",
    "\n",
    "# Save classifier and threshold\n",
    "joblib.dump(classifier, 'models/classifier.joblib')\n",
    "joblib.dump(optimal_threshold, 'models/optimal_threshold.joblib')\n",
    "print(\"\\n✓ Classifier saved\")"
   ]
  },
  {
   "cell_type": "markdown",
   "id": "2e80357f",
   "metadata": {},
   "source": [
    "## 6. Stage B: Regression Model (Medal Count)"
   ]
  },
  {
   "cell_type": "code",
   "execution_count": 12,
   "id": "1396a3ac",
   "metadata": {},
   "outputs": [
    {
     "name": "stdout",
     "output_type": "stream",
     "text": [
      "\n",
      "🎯 Training Regression Model (Stage B)\n",
      "  Training on 1564 medal-winning countries\n",
      "\n",
      "⏳ Running hyperparameter search (15 iterations, 3-fold CV)...\n",
      "Fitting 3 folds for each of 15 candidates, totalling 45 fits\n",
      "\n",
      "✓ Best parameters: {'colsample_bytree': np.float64(0.6739417822102108), 'gamma': np.float64(0.29087538832936755), 'learning_rate': np.float64(0.1262699235041672), 'max_depth': 4, 'min_child_weight': 2, 'n_estimators': 369, 'subsample': np.float64(0.8909087983425683)}\n",
      "✓ Best CV MAE: 6.8725\n"
     ]
    }
   ],
   "source": [
    "print(f\"\\n🎯 Training Regression Model (Stage B)\")\n",
    "print(f\"  Training on {len(y_train_reg)} medal-winning countries\")\n",
    "\n",
    "# Parameter distribution\n",
    "param_dist_reg = {\n",
    "    'max_depth': randint(3, 8),\n",
    "    'learning_rate': uniform(0.01, 0.15),\n",
    "    'n_estimators': randint(100, 400),\n",
    "    'min_child_weight': randint(1, 5),\n",
    "    'subsample': uniform(0.6, 0.4),\n",
    "    'colsample_bytree': uniform(0.6, 0.4),\n",
    "    'gamma': uniform(0, 0.3),\n",
    "}\n",
    "\n",
    "# Base regressor\n",
    "base_reg = xgb.XGBRegressor(\n",
    "    objective='count:poisson',\n",
    "    random_state=42,\n",
    "    eval_metric='mae'\n",
    ")\n",
    "\n",
    "# Randomized search\n",
    "random_search_reg = RandomizedSearchCV(\n",
    "    base_reg,\n",
    "    param_distributions=param_dist_reg,\n",
    "    n_iter=15,\n",
    "    scoring='neg_mean_absolute_error',\n",
    "    cv=3,\n",
    "    random_state=42,\n",
    "    n_jobs=-1,\n",
    "    verbose=1\n",
    ")\n",
    "\n",
    "print(\"\\n⏳ Running hyperparameter search (15 iterations, 3-fold CV)...\")\n",
    "random_search_reg.fit(X_train_reg_processed, y_train_reg)\n",
    "\n",
    "print(f\"\\n✓ Best parameters: {random_search_reg.best_params_}\")\n",
    "print(f\"✓ Best CV MAE: {-random_search_reg.best_score_:.4f}\")\n",
    "\n",
    "regressor = random_search_reg.best_estimator_"
   ]
  },
  {
   "cell_type": "code",
   "execution_count": 13,
   "id": "0ac9ee32",
   "metadata": {},
   "outputs": [
    {
     "name": "stdout",
     "output_type": "stream",
     "text": [
      "\n",
      "📊 Validation Metrics (Regression):\n",
      "  MAE:  5.3278\n",
      "  RMSE: 8.6990\n",
      "\n",
      "✓ Regressor saved\n"
     ]
    }
   ],
   "source": [
    "# Evaluate regressor on validation set\n",
    "y_val_reg_pred = regressor.predict(X_val_reg_processed)\n",
    "y_val_reg_pred = np.maximum(y_val_reg_pred, 0)  # Ensure non-negative\n",
    "\n",
    "val_mae = mean_absolute_error(y_val_reg, y_val_reg_pred)\n",
    "val_rmse = np.sqrt(mean_squared_error(y_val_reg, y_val_reg_pred))\n",
    "\n",
    "print(f\"\\n📊 Validation Metrics (Regression):\")\n",
    "print(f\"  MAE:  {val_mae:.4f}\")\n",
    "print(f\"  RMSE: {val_rmse:.4f}\")\n",
    "\n",
    "# Save regressor\n",
    "joblib.dump(regressor, 'models/regressor.joblib')\n",
    "print(\"\\n✓ Regressor saved\")"
   ]
  },
  {
   "cell_type": "code",
   "execution_count": 14,
   "id": "d6fea1cf",
   "metadata": {},
   "outputs": [
    {
     "name": "stdout",
     "output_type": "stream",
     "text": [
      "\n",
      "📊 Baseline Comparisons\n",
      "============================================================\n",
      "\n",
      "Baseline 1: Predict mean (11.35 medals)\n",
      "  MAE: 10.7324\n",
      "\n",
      "Baseline 2: Predict median (5 medals)\n",
      "  MAE: 9.1778\n",
      "\n",
      "✨ Model Improvement over Mean Baseline: 50.4%\n",
      "\n",
      "Classification Accuracy:\n",
      "  Baseline (majority class): 0.3793\n",
      "  Our model: 0.7931\n"
     ]
    }
   ],
   "source": [
    "# Baseline comparisons\n",
    "print(\"\\n📊 Baseline Comparisons\")\n",
    "print(\"=\"*60)\n",
    "\n",
    "# Baseline 1: Always predict mean\n",
    "mean_medals = train_df[train_df['has_medal']==1]['total_medals'].mean()\n",
    "baseline_mean_pred = np.full(len(y_val_reg), mean_medals)\n",
    "baseline_mean_mae = mean_absolute_error(y_val_reg, baseline_mean_pred)\n",
    "print(f\"\\nBaseline 1: Predict mean ({mean_medals:.2f} medals)\")\n",
    "print(f\"  MAE: {baseline_mean_mae:.4f}\")\n",
    "\n",
    "# Baseline 2: Median\n",
    "median_medals = train_df[train_df['has_medal']==1]['total_medals'].median()\n",
    "baseline_median_pred = np.full(len(y_val_reg), median_medals)\n",
    "baseline_median_mae = mean_absolute_error(y_val_reg, baseline_median_pred)\n",
    "print(f\"\\nBaseline 2: Predict median ({median_medals:.0f} medals)\")\n",
    "print(f\"  MAE: {baseline_median_mae:.4f}\")\n",
    "\n",
    "# Model improvement over mean baseline\n",
    "improvement = (baseline_mean_mae - val_mae) / baseline_mean_mae * 100\n",
    "print(f\"\\n✨ Model Improvement over Mean Baseline: {improvement:.1f}%\")\n",
    "\n",
    "# Classification baseline: always predict majority class\n",
    "majority_class = y_train_class.mode()[0]\n",
    "baseline_clf_acc = (y_val_class == majority_class).mean()\n",
    "model_clf_acc = (y_val_pred == y_val_class).mean()\n",
    "\n",
    "print(f\"\\nClassification Accuracy:\")\n",
    "print(f\"  Baseline (majority class): {baseline_clf_acc:.4f}\")\n",
    "print(f\"  Our model: {model_clf_acc:.4f}\")"
   ]
  }
 ],
 "metadata": {
  "kernelspec": {
   "display_name": "Python 3 (ipykernel)",
   "language": "python",
   "name": "python3"
  },
  "language_info": {
   "codemirror_mode": {
    "name": "ipython",
    "version": 3
   },
   "file_extension": ".py",
   "mimetype": "text/x-python",
   "name": "python",
   "nbconvert_exporter": "python",
   "pygments_lexer": "ipython3",
   "version": "3.10.12"
  }
 },
 "nbformat": 4,
 "nbformat_minor": 5
}
